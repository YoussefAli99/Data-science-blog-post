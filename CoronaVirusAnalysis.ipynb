{
 "cells": [
  {
   "cell_type": "code",
   "execution_count": null,
   "metadata": {},
   "outputs": [],
   "source": [
    "import pandas as pd\n",
    "import matplotlib.pyplot as plt\n",
    "%matplotlib inline\n",
    "\n",
    "#If you want the real-time analysis you can use this link instead: https://covid.ourworldindata.org/data/ecdc/full_data.csv\n",
    "#This analysis was made by 04/04/2020\n",
    "\n",
    "df = pd.read_csv('full_data.csv', index_col='date')\n",
    "df.head()"
   ]
  },
  {
   "cell_type": "markdown",
   "metadata": {},
   "source": [
    "\n",
    "    After the COVID-19 pandemic, we have several questions:\n",
    "    - Is first world countries much safer than third ones?\n",
    "    - What is the speed that the coronavirus is spreading by?\n",
    "    - How about the total number of death?\n",
    "    - Is it recommended to travel these days?\n"
   ]
  },
  {
   "cell_type": "code",
   "execution_count": null,
   "metadata": {},
   "outputs": [],
   "source": [
    "\n",
    "def country_dataframe(name):\n",
    "    return df[df['location']==name]\n",
    "\n",
    "\n",
    "def plot_cases_death(country):\n",
    "    plt.plot(range(country.shape[0]), country.total_cases, label='Total Cases')\n",
    "    plt.plot(range(country.shape[0]), country.total_deaths, label='Total Deaths')\n",
    "    plt.xlabel('Days')\n",
    "    plt.ylabel('population')\n",
    "    plt.legend()\n",
    "    plt.show()\n",
    "\n",
    "\n",
    "def plot_cases(country1, country2):\n",
    "    plt.plot(range(country1.shape[0]), country1.total_cases, label=f\"Total Cases of {country1.loc['2020-01-20', 'location']}\")\n",
    "    plt.plot(range(country2.shape[0]), country2.total_cases, label=f\"Total Cases of {country2.loc['2020-01-20', 'location']}\")\n",
    "    plt.xlabel('Days')\n",
    "    plt.ylabel('population')\n",
    "    plt.legend()\n",
    "    plt.show()\n",
    "\n",
    "\n",
    "def plot_death(country1, country2):\n",
    "    plt.plot(range(country1.shape[0]), country1.total_deaths, label=f\"Total Deaths of {country1.loc['2020-01-20', 'location']}\")\n",
    "    plt.plot(range(country2.shape[0]), country2.total_deaths, label=f\"Total Deaths of {country2.loc['2020-01-20', 'location']}\")\n",
    "    plt.xlabel('Days')\n",
    "    plt.ylabel('population')\n",
    "    plt.legend()\n",
    "    plt.show()\n"
   ]
  },
  {
   "cell_type": "markdown",
   "metadata": {},
   "source": [
    "We can compare any two countries (developed and developing) and this graph remain <br>\n",
    "Always developed countries' rates are higher than developing ones\n"
   ]
  },
  {
   "cell_type": "code",
   "execution_count": null,
   "metadata": {},
   "outputs": [],
   "source": [
    "\n",
    "eg = country_dataframe('Egypt')\n",
    "it = country_dataframe('Italy')\n",
    "plot_death(eg, it)\n",
    "\n",
    "us = country_dataframe('United States')\n",
    "ind = country_dataframe('India')\n",
    "plot_cases(ind, us)"
   ]
  },
  {
   "cell_type": "code",
   "execution_count": null,
   "metadata": {},
   "outputs": [],
   "source": [
    "# Total cases based on developed and developing countries\n",
    "\n",
    "class Total():\n",
    "    \n",
    "    def __init__(self, countries1, countries2):\n",
    "        self.dev = df[df['location'].isin(countries1)]\n",
    "        self.ving = df[df['location'].isin(countries2)]\n",
    "        self.dev.drop('location', axis=1, inplace=True)\n",
    "        self.ving.drop('location', axis=1, inplace=True)\n",
    "        self.sum_dev = self.dev.groupby('date').sum()\n",
    "        self.mean_dev = self.dev.groupby('date').mean()\n",
    "        self.sum_ving = self.ving.groupby('date').sum()\n",
    "        self.mean_ving = self.ving.groupby('date').mean()\n",
    "        if len(countries1) == 1 or len(countries2) == 1:\n",
    "            self.label_cdev = f\"Total Cases of {countries1[0]}\"\n",
    "            self.label_ddev = f\"Total Deaths of {countries1[0]}\"\n",
    "            self.label_cving = f\"Total Cases of {countries2[0]}\"\n",
    "            self.label_dving = f\"Total Deaths of {countries2[0]}\"\n",
    "        else:\n",
    "            self.label_cdev = \"Total Cases of Developed Countries\"\n",
    "            self.label_ddev = \"Total Deaths of Developed Countries\"\n",
    "            self.label_cving = \"Total Cases of Developing Countries\"\n",
    "            self.label_dving = \"Total Deaths of Developing Countries\"\n",
    "    \n",
    "    def plot_total_cases(self): # Plotting total cases of the two countries'\n",
    "        plt.plot(range(self.sum_dev.shape[0]), self.sum_dev.total_cases, label=self.label_cdev)\n",
    "        plt.plot(range(self.sum_ving.shape[0]), self.sum_ving.total_cases, label=self.label_cving)\n",
    "        plt.xlabel('Days')\n",
    "        plt.ylabel('population')\n",
    "        plt.legend()\n",
    "        plt.show()\n",
    "        \n",
    "    \n",
    "    def plot_total_death(self): # Plotting total deaths of the two countries'\n",
    "        plt.plot(range(self.sum_dev.shape[0]), self.sum_dev.total_deaths, label=self.label_ddev)\n",
    "        plt.plot(range(self.sum_ving.shape[0]), self.sum_ving.total_deaths, label=self.label_dving)\n",
    "        plt.xlabel('Days')\n",
    "        plt.ylabel('population')\n",
    "        plt.legend()\n",
    "        plt.show()\n",
    "    \n",
    "    \n",
    "    def plot_cases_dev(self): # Plotting cases of the developed country/ies\n",
    "        plt.plot(range(self.sum_dev.shape[0]), self.sum_dev.total_cases, label=self.label_cdev)\n",
    "        plt.xlabel('Days')\n",
    "        plt.ylabel('population')\n",
    "        plt.legend()\n",
    "        plt.show()\n",
    "    \n",
    "    def plot_cases_ving(self): # Plotting cases of the developing country/ies\n",
    "        plt.plot(range(self.sum_ving.shape[0]), self.sum_ving.total_cases, label=self.label_cving)\n",
    "        plt.xlabel('Days')\n",
    "        plt.ylabel('population')\n",
    "        plt.legend()\n",
    "        plt.show()\n",
    "    \n",
    "    def plot_death_ved(self): # Plotting daeths of the developed country/ies\n",
    "        plt.plot(range(self.sum_dev.shape[0]), self.sum_dev.total_deaths, label=self.label_dved)\n",
    "        plt.xlabel('Days')\n",
    "        plt.ylabel('population')\n",
    "        plt.legend()\n",
    "        plt.show()\n",
    "    \n",
    "    def plot_death_ving(self): # Plotting deaths of the developing country/ies\n",
    "        plt.plot(range(self.sum_ving.shape[0]), self.sum_ving.total_deaths, label=self.label_dving)\n",
    "        plt.xlabel('Days')\n",
    "        plt.ylabel('population')\n",
    "        plt.legend()\n",
    "        plt.show()\n",
    "    \n",
    "    def speed(self): # Plotting the speed of virus' spreading\n",
    "        plt.plot(range(self.sum_dev.shape[0]), self.sum_dev.new_cases, label=self.label_cdev)\n",
    "        plt.plot(range(self.sum_ving.shape[0]), self.sum_ving.new_cases, label=self.label_cving)\n",
    "        plt.xlabel('Days')\n",
    "        plt.ylabel('population')\n",
    "        plt.legend()\n",
    "        plt.show()\n",
    "    "
   ]
  },
  {
   "cell_type": "markdown",
   "metadata": {},
   "source": [
    "compare the two worlds in total cases there"
   ]
  },
  {
   "cell_type": "code",
   "execution_count": null,
   "metadata": {},
   "outputs": [],
   "source": [
    "\n",
    "countries1 = [ 'Belgium', 'Canada', 'Denmark', 'France', 'Germany', 'Greece', 'Italy', 'Luxembourg',\\\n",
    "              'Netherlands', 'Norway', 'Portugal', 'Spain', 'Turkey', 'United Kingdom', 'United States']\n",
    "countries2 = ['Afghanistan', 'Albania', 'Algeria', 'Brazil', 'Uruguay', 'Aruba', 'Armenia', 'Bahrain',\\\n",
    "              'Kuwait', 'India', 'Chile', 'Morocco', 'Egypt', 'Mexico', 'Niger']\n",
    "\n",
    "total = Total(countries1, countries2)\n",
    "total.plot_total_cases()\n",
    "\n",
    "mex_spn = Total(['Spain'],['Mexico'])\n",
    "mex_spn.plot_cases_ving()\n",
    "mex_spn.plot_cases_dev()"
   ]
  },
  {
   "cell_type": "markdown",
   "metadata": {},
   "source": [
    "Ok, now let's see how fast the virus is spreading"
   ]
  },
  {
   "cell_type": "code",
   "execution_count": null,
   "metadata": {},
   "outputs": [],
   "source": [
    "total.speed()"
   ]
  },
  {
   "cell_type": "markdown",
   "metadata": {},
   "source": [
    "We can see that the virus is spreading in developed countries more than developing ones approximetly 30 times faster <br>\n",
    "How about the deaths?"
   ]
  },
  {
   "cell_type": "code",
   "execution_count": null,
   "metadata": {},
   "outputs": [],
   "source": [
    "total.plot_total_death()"
   ]
  },
  {
   "cell_type": "markdown",
   "metadata": {},
   "source": [
    " The deaths rate is also unfortunetly high \n",
    "#### So here is the question, is it recommended to travel these days?\n",
    " I am not an expert, these analysis may be not 100% true but I hope to all the world to be safe again <br>\n",
    " Also you, please stay home, stay safe <3 <br><br>\n",
    " You can found the complete analysis on my [Medium](https://medium.com/)"
   ]
  },
  {
   "cell_type": "code",
   "execution_count": null,
   "metadata": {},
   "outputs": [],
   "source": []
  }
 ],
 "metadata": {
  "kernelspec": {
   "display_name": "Python 3",
   "language": "python",
   "name": "python3"
  },
  "language_info": {
   "codemirror_mode": {
    "name": "ipython",
    "version": 3
   },
   "file_extension": ".py",
   "mimetype": "text/x-python",
   "name": "python",
   "nbconvert_exporter": "python",
   "pygments_lexer": "ipython3",
   "version": "3.7.3"
  }
 },
 "nbformat": 4,
 "nbformat_minor": 2
}
