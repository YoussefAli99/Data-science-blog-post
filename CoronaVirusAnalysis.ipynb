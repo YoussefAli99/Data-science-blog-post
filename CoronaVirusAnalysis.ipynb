{
 "cells": [
  {
   "cell_type": "code",
   "execution_count": null,
   "metadata": {},
   "outputs": [],
   "source": [
    "import pandas as pd\n",
    "import matplotlib.pyplot as plt\n",
    "%matplotlib inline\n",
    "\n",
    "#If you want the real-time analysis you can use this link instead: https://covid.ourworldindata.org/data/ecdc/full_data.csv\n",
    "#This analysis was made by 04/04/2020\n",
    "\n",
    "df = pd.read_csv('full_data.csv', index_col='date')\n",
    "df.head()"
   ]
  },
  {
   "cell_type": "markdown",
   "metadata": {},
   "source": [
    "\n",
    "    After the COVID-19 pandemic, we have several questions:\n",
    "    - Is first world countries much safer than third ones?\n",
    "    - What is the speed that the coronavirus is spreading by?\n",
    "    - How about the total number of death?\n",
    "    - Is it recommended to travel these days?\n"
   ]
  },
  {
   "cell_type": "code",
   "execution_count": null,
   "metadata": {},
   "outputs": [],
   "source": [
    "\n",
    "def country_dataframe(name):\n",
    "    return df[df['location']==name]\n",
    "\n",
    "\n",
    "def plot_cases_death(country):\n",
    "    plt.plot(range(country.shape[0]), country.total_cases, label='Total Cases')\n",
    "    plt.plot(range(country.shape[0]), country.total_deaths, label='Total Deaths')\n",
    "    plt.xlabel('Days')\n",
    "    plt.ylabel('population')\n",
    "    plt.legend()\n",
    "    plt.show()\n",
    "\n",
    "\n",
    "def plot_cases(country1, country2):\n",
    "    plt.plot(range(country1.shape[0]), country1.total_cases, label=f\"Total Cases of {country1.loc['2020-01-20', 'location']}\")\n",
    "    plt.plot(range(country2.shape[0]), country2.total_cases, label=f\"Total Cases of {country2.loc['2020-01-20', 'location']}\")\n",
    "    plt.xlabel('Days')\n",
    "    plt.ylabel('population')\n",
    "    plt.legend()\n",
    "    plt.show()\n",
    "\n",
    "\n",
    "def plot_death(country1, country2):\n",
    "    plt.plot(range(country1.shape[0]), country1.total_deaths, label=f\"Total Deaths of {country1.loc['2020-01-20', 'location']}\")\n",
    "    plt.plot(range(country2.shape[0]), country2.total_deaths, label=f\"Total Deaths of {country2.loc['2020-01-20', 'location']}\")\n",
    "    plt.xlabel('Days')\n",
    "    plt.ylabel('population')\n",
    "    plt.legend()\n",
    "    plt.show()\n"
   ]
  },
  {
   "cell_type": "markdown",
   "metadata": {},
   "source": [
    "We can compare any two countries (developed and developing) and this graph remain <br>\n",
    "Always developed countries' rates are higher than developing ones\n"
   ]
  },
  {
   "cell_type": "code",
   "execution_count": null,
   "metadata": {},
   "outputs": [],
   "source": [
    "\n",
    "eg = country_dataframe('Egypt')\n",
    "it = country_dataframe('Italy')\n",
    "plot_death(eg, it)\n",
    "\n",
    "us = country_dataframe('United States')\n",
    "ind = country_dataframe('India')\n",
    "plot_cases(ind, us)"
   ]
  },
  {
   "cell_type": "code",
   "execution_count": null,
   "metadata": {},
   "outputs": [],
   "source": []
  }
 ],
 "metadata": {
  "kernelspec": {
   "display_name": "Python 3",
   "language": "python",
   "name": "python3"
  },
  "language_info": {
   "codemirror_mode": {
    "name": "ipython",
    "version": 3
   },
   "file_extension": ".py",
   "mimetype": "text/x-python",
   "name": "python",
   "nbconvert_exporter": "python",
   "pygments_lexer": "ipython3",
   "version": "3.7.3"
  }
 },
 "nbformat": 4,
 "nbformat_minor": 2
}
